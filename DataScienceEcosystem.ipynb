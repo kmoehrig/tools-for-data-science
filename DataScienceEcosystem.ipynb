{
    "cells": [
        {
            "metadata": {
                "collapsed": true
            },
            "cell_type": "markdown",
            "source": "# Data Science Tools and Ecosystem"
        },
        {
            "metadata": {},
            "cell_type": "markdown",
            "source": "In this notebook, Data Science Tools and Ecosystem are summarized."
        },
        {
            "metadata": {},
            "cell_type": "markdown",
            "source": "**Objectives:**\n- Add comments to code cells\n- Insert markdown cells\n- Format markdown cells"
        },
        {
            "metadata": {},
            "cell_type": "markdown",
            "source": "Some of the popular languages that Data Scientists use are:\n1. R\n2. Python\n3. SQL\n4. Ruby"
        },
        {
            "metadata": {},
            "cell_type": "markdown",
            "source": "Some of the commonly used libraries used by Data Scientists include:\n1. NumPy\n2. Matplotlib\n3. Pandas\n4. Seaborn\n5. Keras"
        },
        {
            "metadata": {},
            "cell_type": "markdown",
            "source": "| Data Science Tools |\n|--------------------|\n| Anaconda |\n| RStudio |\n| Jupyter Notebooks |\n| Spyder |\n| Zeppelin |"
        },
        {
            "metadata": {},
            "cell_type": "markdown",
            "source": "### Below are a few examples of evaluating arithmetic expressions in Python"
        },
        {
            "metadata": {},
            "cell_type": "code",
            "source": "# This a simple arithmetic expression to mutiply then add integers\n(3*4)+5",
            "execution_count": 2,
            "outputs": [
                {
                    "output_type": "execute_result",
                    "execution_count": 2,
                    "data": {
                        "text/plain": "17"
                    },
                    "metadata": {}
                }
            ]
        },
        {
            "metadata": {},
            "cell_type": "code",
            "source": "# This will convert 200 minutes to hours by diving by 60\n200/60",
            "execution_count": 3,
            "outputs": [
                {
                    "output_type": "execute_result",
                    "execution_count": 3,
                    "data": {
                        "text/plain": "3.3333333333333335"
                    },
                    "metadata": {}
                }
            ]
        },
        {
            "metadata": {},
            "cell_type": "markdown",
            "source": "## Author\nKatie Moehrig"
        }
    ],
    "metadata": {
        "kernelspec": {
            "name": "python3",
            "display_name": "Python 3.10",
            "language": "python"
        },
        "language_info": {
            "name": "python",
            "version": "3.10.9",
            "mimetype": "text/x-python",
            "codemirror_mode": {
                "name": "ipython",
                "version": 3
            },
            "pygments_lexer": "ipython3",
            "nbconvert_exporter": "python",
            "file_extension": ".py"
        }
    },
    "nbformat": 4,
    "nbformat_minor": 1
}